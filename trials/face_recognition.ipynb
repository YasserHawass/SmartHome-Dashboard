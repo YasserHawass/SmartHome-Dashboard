{
 "cells": [
  {
   "cell_type": "code",
   "execution_count": 5,
   "metadata": {},
   "outputs": [
    {
     "name": "stdout",
     "output_type": "stream",
     "text": [
      "Requirement already satisfied: face_recognition in c:\\users\\mahaw\\anaconda3\\lib\\site-packages (1.3.0)\n",
      "Requirement already satisfied: numpy in c:\\users\\mahaw\\anaconda3\\lib\\site-packages (from face_recognition) (1.20.3)\n",
      "Requirement already satisfied: Click>=6.0 in c:\\users\\mahaw\\anaconda3\\lib\\site-packages (from face_recognition) (8.1.2)\n",
      "Requirement already satisfied: face-recognition-models>=0.3.0 in c:\\users\\mahaw\\anaconda3\\lib\\site-packages (from face_recognition) (0.3.0)\n",
      "Requirement already satisfied: Pillow in c:\\users\\mahaw\\anaconda3\\lib\\site-packages (from face_recognition) (8.4.0)\n",
      "Requirement already satisfied: dlib>=19.7 in c:\\users\\mahaw\\anaconda3\\lib\\site-packages (from face_recognition) (19.23.1)\n",
      "Requirement already satisfied: colorama in c:\\users\\mahaw\\anaconda3\\lib\\site-packages (from Click>=6.0->face_recognition) (0.4.4)\n"
     ]
    }
   ],
   "source": [
    "!pip install face_recognition\n",
    "# https://stackoverflow.com/questions/56731373/vscode-v1-35-runtimeerror-cmake-must-be-installed-to-build-the-following-exte/70076000#70076000"
   ]
  },
  {
   "cell_type": "code",
   "execution_count": null,
   "metadata": {},
   "outputs": [],
   "source": [
    "import face_recognition\n",
    "image = face_recognition.load_image_file(\"your_file.jpg\")\n",
    "face_locations = face_recognition.face_locations(image)"
   ]
  }
 ],
 "metadata": {
  "interpreter": {
   "hash": "3338a73feae1ca55a8fc8011909cf201c445eba7c5d6e102d3c82a8840634ce4"
  },
  "kernelspec": {
   "display_name": "Python 3.9.7 ('base')",
   "language": "python",
   "name": "python3"
  },
  "language_info": {
   "codemirror_mode": {
    "name": "ipython",
    "version": 3
   },
   "file_extension": ".py",
   "mimetype": "text/x-python",
   "name": "python",
   "nbconvert_exporter": "python",
   "pygments_lexer": "ipython3",
   "version": "3.9.7"
  },
  "orig_nbformat": 4
 },
 "nbformat": 4,
 "nbformat_minor": 2
}
